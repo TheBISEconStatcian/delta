{
 "cells": [
  {
   "cell_type": "markdown",
   "metadata": {},
   "source": [
    "[![Open In Colab](https://colab.research.google.com/assets/colab-badge.svg)](https://colab.research.google.com/github/Humboldt-WI/adams/blob/master/exercises/tut7_RNN_NLP1_teacher.ipynb)"
   ]
  },
  {
   "cell_type": "markdown",
   "metadata": {},
   "source": [
    "# Tutorial 7: Processing words as sequences\n",
    "In this tutorial, we will try to predict the next word in a sentence. This is challenging, as we will see because we choose a word out of a vocabulary, which is commonly large. Hence, the purpose of this tutorial is not to get an accurate model, but rather to show you how this task can be performed. More accurate models require larger samples and computational resources. \n",
    "\n",
    "We cover the following\n",
    "1. Prepare the text data to represent the sequence $[w_1,w_2,w_3,w_4,w_5,w_6]$ into something like $y=w_6$ and $x=[w_1,w_2,w_3,w_4,w_5]$. Because you are now familiar with IMBD dataset, we will use it to create our sequence data.\n",
    "2. Train a feedforward network. \n",
    "3. Train a NN with `SimpleRNN` layer. \n",
    "4. Train a NN with `LSTM` layer.\n",
    "5. Train a NN with `Embedding` and `LSTM` layers.\n",
    "\n",
    "For further examples, please visit the demos in [demos/rnn](https://github.com/Humboldt-WI/adams/tree/master/demos/rnn)."
   ]
  },
  {
   "cell_type": "markdown",
   "metadata": {},
   "source": [
    "## 1. Preprocess IMDB data "
   ]
  },
  {
   "cell_type": "code",
   "execution_count": 1,
   "metadata": {},
   "outputs": [],
   "source": [
    "# Import the required libraries\n",
    "import pandas as pd\n",
    "import numpy as np\n",
    "import tensorflow as tf\n",
    "import string\n",
    "import re\n",
    "from tensorflow.keras import layers\n",
    "from tensorflow.keras.layers.experimental.preprocessing import TextVectorization"
   ]
  },
  {
   "cell_type": "markdown",
   "metadata": {},
   "source": [
    "### Exercise 1\n",
    "Load the IMDB, and use the first 100 reviews as training and the next 20 as validation. We won't be using the sentiment, only the text."
   ]
  },
  {
   "cell_type": "code",
   "execution_count": 3,
   "metadata": {},
   "outputs": [
    {
     "data": {
      "text/plain": [
       "array([\"One of the other reviewers has mentioned that after watching just 1 Oz episode you'll be hooked. They are right, as this is exactly what happened with me.<br /><br />The first thing that struck me about Oz was its brutality and unflinching scenes of violence, which set in right from the word GO. Trust me, this is not a show for the faint hearted or timid. This show pulls no punches with regards to drugs, sex or violence. Its is hardcore, in the classic use of the word.<br /><br />It is called OZ as that is the nickname given to the Oswald Maximum Security State Penitentary. It focuses mainly on Emerald City, an experimental section of the prison where all the cells have glass fronts and face inwards, so privacy is not high on the agenda. Em City is home to many..Aryans, Muslims, gangstas, Latinos, Christians, Italians, Irish and more....so scuffles, death stares, dodgy dealings and shady agreements are never far away.<br /><br />I would say the main appeal of the show is due to the fact that it goes where other shows wouldn't dare. Forget pretty pictures painted for mainstream audiences, forget charm, forget romance...OZ doesn't mess around. The first episode I ever saw struck me as so nasty it was surreal, I couldn't say I was ready for it, but as I watched more, I developed a taste for Oz, and got accustomed to the high levels of graphic violence. Not just violence, but injustice (crooked guards who'll be sold out for a nickel, inmates who'll kill on order and get away with it, well mannered, middle class inmates being turned into prison bitches due to their lack of street skills or prison experience) Watching Oz, you may become comfortable with what is uncomfortable viewing....thats if you can get in touch with your darker side.\",\n",
       "       'A wonderful little production. <br /><br />The filming technique is very unassuming- very old-time-BBC fashion and gives a comforting, and sometimes discomforting, sense of realism to the entire piece. <br /><br />The actors are extremely well chosen- Michael Sheen not only \"has got all the polari\" but he has all the voices down pat too! You can truly see the seamless editing guided by the references to Williams\\' diary entries, not only is it well worth the watching but it is a terrificly written and performed piece. A masterful production about one of the great master\\'s of comedy and his life. <br /><br />The realism really comes home with the little things: the fantasy of the guard which, rather than use the traditional \\'dream\\' techniques remains solid then disappears. It plays on our knowledge and our senses, particularly with the scenes concerning Orton and Halliwell and the sets (particularly of their flat with Halliwell\\'s murals decorating every surface) are terribly well done.'],\n",
       "      dtype=object)"
      ]
     },
     "execution_count": 3,
     "metadata": {},
     "output_type": "execute_result"
    }
   ],
   "source": [
    "# load the data (be sure to provide the correct file path)\n",
    "total_imbd = pd.read_csv(\"IMDB-50K-Movie-Review.zip\", sep=\",\", encoding=\"ISO-8859-1\")\n",
    "text_data = total_imbd['review'][:120].to_numpy()\n",
    "text_data_train = text_data[:100]\n",
    "text_data_val = text_data[100:]\n",
    "text_data_train[:2]"
   ]
  },
  {
   "cell_type": "markdown",
   "metadata": {},
   "source": [
    "### Exercise 2\n",
    "Create `our_standardization` function to convert to lowercase, remove HTML tags, punctation and double spaces (check [tut5_embeddings](https://github.com/Humboldt-WI/adams/blob/master/exercises/tut5_embeddings_teacher.ipynb)). "
   ]
  },
  {
   "cell_type": "code",
   "execution_count": 4,
   "metadata": {},
   "outputs": [],
   "source": [
    "def our_standardization(text_data):\n",
    "  lowercase = tf.strings.lower(text_data) # convert to lowercase\n",
    "  remove_html = tf.strings.regex_replace(lowercase, '<br />', ' ') # remove HTML tags\n",
    "  pattern_remove_punctuation = '[%s]' % re.escape(string.punctuation) # pattern to remove punctuation\n",
    "  remove_punct = tf.strings.regex_replace(remove_html, pattern_remove_punctuation, '') # apply pattern\n",
    "  remove_double_spaces = tf.strings.regex_replace(remove_punct, '\\s+', ' ') # remove double space\n",
    "  return remove_double_spaces"
   ]
  },
  {
   "cell_type": "markdown",
   "metadata": {},
   "source": [
    "### Exercise 3\n",
    "Create `TextVectorization` with `output_mode` integer and without defining the `output_sequence_length`. Use only 100 words as vocabulary (nothing good can be done with 100 words, but the purpose is to illustrate)."
   ]
  },
  {
   "cell_type": "code",
   "execution_count": 5,
   "metadata": {},
   "outputs": [],
   "source": [
    "# Define the size of the vocabulary and the max number of words in a sequence\n",
    "vocab_size = 100\n",
    "# Create a vectorization layer\n",
    "vectorize_layer = TextVectorization(\n",
    "    standardize = our_standardization,\n",
    "    max_tokens = vocab_size )"
   ]
  },
  {
   "cell_type": "markdown",
   "metadata": {},
   "source": [
    "### Exercise 4\n",
    "Adapt the vectorization layer to the text_data."
   ]
  },
  {
   "cell_type": "code",
   "execution_count": 6,
   "metadata": {},
   "outputs": [
    {
     "name": "stdout",
     "output_type": "stream",
     "text": [
      "['', '[UNK]', 'the', 'a', 'and', 'of', 'to', 'is', 'in', 'it']\n"
     ]
    }
   ],
   "source": [
    "# To create the vocabulary, we need to call adapt. The input is only the text\n",
    "vectorize_layer.adapt(text_data)\n",
    "# Check the first 10 words of the vocabulary. It is sorted by frequency \n",
    "vocab = vectorize_layer.get_vocabulary()\n",
    "print(vocab[:10])"
   ]
  },
  {
   "cell_type": "markdown",
   "metadata": {},
   "source": [
    "### Exercise 5\n",
    "Create `transform_text` function to transform the text data into a time serie. The targets are related with their previous 5 words (similar to what we saw in [tut6_LSTM](https://github.com/Humboldt-WI/adams/blob/master/exercises/tut6_LSTM_teacher.ipynb). You can use built-in `timeseries_dataset_from_array` from Keras. "
   ]
  },
  {
   "cell_type": "code",
   "execution_count": 7,
   "metadata": {},
   "outputs": [],
   "source": [
    "def transform_text(data, sequence_length):\n",
    "    delay = sequence_length # the target word is the word after the sequence\n",
    "    batch_size = 1\n",
    "    flag = True\n",
    "    # Generate data\n",
    "    for rev in data:\n",
    "        vec_rev = vectorize_layer(rev) \n",
    "        # Create time series dataset for each review\n",
    "        aux_dataset = tf.keras.preprocessing.timeseries_dataset_from_array(\n",
    "            data = vec_rev,\n",
    "            targets = vec_rev[delay:],\n",
    "            sequence_length=sequence_length,\n",
    "            shuffle=False,\n",
    "            batch_size=batch_size)\n",
    "        \n",
    "        # Concatenate the time series\n",
    "        for input, target in aux_dataset:\n",
    "            if flag:\n",
    "                X = input\n",
    "                y = target\n",
    "                flag = False\n",
    "            else:     \n",
    "                X = tf.concat([X , input], 0)\n",
    "                y = tf.concat([y, target], 0)\n",
    "    return X, y"
   ]
  },
  {
   "cell_type": "markdown",
   "metadata": {},
   "source": [
    "### Exercise 6\n",
    "Create the training and validation datasets."
   ]
  },
  {
   "cell_type": "code",
   "execution_count": 8,
   "metadata": {},
   "outputs": [],
   "source": [
    "sequence_length = 5 # we use the last 5 words\n",
    "X_train, y_train = transform_text(text_data_train, sequence_length)\n",
    "X_val, y_val = transform_text(text_data_val, sequence_length)"
   ]
  },
  {
   "cell_type": "code",
   "execution_count": 9,
   "metadata": {},
   "outputs": [
    {
     "name": "stdout",
     "output_type": "stream",
     "text": [
      "features: tf.Tensor([31  5  2 82  1], shape=(5,), dtype=int64)  target: tf.Tensor(43, shape=(), dtype=int64)\n"
     ]
    }
   ],
   "source": [
    "print(\"features:\", X_train[0],\" target:\", y_train[0])"
   ]
  },
  {
   "cell_type": "code",
   "execution_count": 10,
   "metadata": {},
   "outputs": [
    {
     "data": {
      "text/plain": [
       "<tf.Tensor: shape=(304,), dtype=int64, numpy=\n",
       "array([31,  5,  2, 82,  1, 43,  1, 12,  1,  1, 35,  1,  1,  1,  1, 32,  1,\n",
       "       40, 28,  1, 15, 10,  7,  1, 44,  1, 14, 60,  2, 86,  1, 12,  1, 60,\n",
       "       42,  1, 13, 23,  1,  4,  1,  1,  5,  1, 50,  1,  8,  1, 36,  2,  1,\n",
       "        1,  1, 60, 10,  7, 22,  3,  1, 17,  2,  1,  1, 38,  1, 10,  1,  1,\n",
       "       49,  1, 14,  1,  6,  1,  1, 38,  1, 23,  7,  1,  8,  2,  1,  1,  5,\n",
       "        2,  1,  9,  7,  1,  1, 15, 12,  7,  2,  1,  1,  6,  2,  1,  1,  1,\n",
       "        1,  1,  9,  1,  1, 20,  1,  1, 34,  1,  1,  5,  2,  1, 88, 30,  2,\n",
       "        1, 29,  1,  1,  4,  1,  1, 39,  1,  7, 22,  1, 20,  2,  1,  1,  1,\n",
       "        7,  1,  6,  1,  1,  1,  1,  1,  1,  1,  4,  1,  1,  1,  1,  1,  1,\n",
       "        4,  1,  1, 28, 83,  1,  1, 11, 62,  1,  2,  1,  1,  5,  2,  1,  7,\n",
       "        1,  6,  2,  1, 12,  9,  1, 88, 82,  1,  1,  1,  1,  1,  1,  1, 17,\n",
       "        1,  1,  1,  1,  1,  1,  1,  1,  1,  2, 86,  1, 11,  1,  1,  1, 60,\n",
       "       15, 39,  1,  9, 13,  1, 11,  1,  1, 11, 13,  1, 17,  9, 18, 15, 11,\n",
       "        1, 47, 11,  1,  3,  1, 17,  1,  4,  1,  1,  6,  2,  1,  1,  5,  1,\n",
       "        1, 22, 35,  1, 18,  1,  1,  1,  1, 32,  1, 45, 17,  3,  1,  1,  1,\n",
       "        1, 20,  1,  4, 84,  1, 14,  9, 90,  1,  1,  1,  1,  1,  1, 75,  1,\n",
       "        1,  1,  6, 65,  1,  5,  1,  1, 38,  1,  1,  1,  1, 24,  1,  1,  1,\n",
       "       14, 44,  7,  1,  1, 46, 24,  1, 84,  8,  1, 14,  1,  1,  1],\n",
       "      dtype=int64)>"
      ]
     },
     "execution_count": 10,
     "metadata": {},
     "output_type": "execute_result"
    }
   ],
   "source": [
    "vectorize_layer(text_data_train[0])"
   ]
  },
  {
   "cell_type": "code",
   "execution_count": 11,
   "metadata": {},
   "outputs": [
    {
     "data": {
      "text/plain": [
       "<tf.Tensor: shape=(100, 691), dtype=int64, numpy=\n",
       "array([[31,  5,  2, ...,  0,  0,  0],\n",
       "       [ 3,  1,  1, ...,  0,  0,  0],\n",
       "       [11,  1, 10, ...,  0,  0,  0],\n",
       "       ...,\n",
       "       [90, 11, 37, ...,  0,  0,  0],\n",
       "       [10,  7,  2, ...,  0,  0,  0],\n",
       "       [11, 29, 72, ...,  0,  0,  0]], dtype=int64)>"
      ]
     },
     "execution_count": 11,
     "metadata": {},
     "output_type": "execute_result"
    }
   ],
   "source": [
    "vectorize_layer(text_data_train)"
   ]
  },
  {
   "cell_type": "code",
   "execution_count": 7,
   "metadata": {},
   "outputs": [],
   "source": [
    "#X_train.shape"
   ]
  },
  {
   "cell_type": "code",
   "execution_count": 8,
   "metadata": {},
   "outputs": [],
   "source": [
    "#y_train.shape"
   ]
  },
  {
   "cell_type": "code",
   "execution_count": 9,
   "metadata": {},
   "outputs": [],
   "source": [
    "#y_val.shape"
   ]
  },
  {
   "cell_type": "markdown",
   "metadata": {},
   "source": [
    "### Exercise 7\n",
    "Check the frequency of each token (you can use `tf.unique_with_counts`). What's the problem?"
   ]
  },
  {
   "cell_type": "code",
   "execution_count": 12,
   "metadata": {},
   "outputs": [
    {
     "data": {
      "text/plain": [
       "UniqueWithCounts(y=<tf.Tensor: shape=(99,), dtype=int64, numpy=\n",
       "array([43,  1, 12, 35, 32, 40, 28, 15, 10,  7, 44, 14, 60,  2, 86, 42, 13,\n",
       "       23,  4,  5, 50,  8, 36, 22,  3, 17, 38, 49,  6,  9, 20, 34, 88, 30,\n",
       "       29, 39, 83, 11, 62, 82, 18, 47, 45, 84, 90, 75, 65, 24, 46, 63, 59,\n",
       "       27, 98, 57, 26, 31, 21, 93, 66, 67, 78, 81, 73, 91, 51, 41, 52, 85,\n",
       "       25, 72, 96, 53, 16, 19, 37, 80, 74, 70, 99, 76, 54, 56, 58, 94, 64,\n",
       "       55, 61, 79, 92, 77, 48, 33, 71, 68, 97, 69, 95, 89, 87],\n",
       "      dtype=int64)>, idx=<tf.Tensor: shape=(22273,), dtype=int32, numpy=array([ 0,  1,  2, ..., 42, 19,  1])>, count=<tf.Tensor: shape=(99,), dtype=int32, numpy=\n",
       "array([   62, 11162,   233,    81,    95,    71,   103,   165,   234,\n",
       "         402,    64,   176,    44,  1341,    34,    69,   174,   116,\n",
       "         641,   614,    54,   378,    75,   126,   661,   161,    72,\n",
       "          53,   523,   274,   133,    77,    31,    95,    96,    61,\n",
       "          31,   237,    41,    34,   159,    57,    66,    32,    28,\n",
       "          37,    43,   112,    53,    41,    50,   105,    30,    52,\n",
       "          99,    97,   133,    33,    38,    39,    41,    35,    38,\n",
       "          24,    58,    64,    53,    28,   110,    38,    26,    53,\n",
       "         158,   123,    76,    37,    32,    33,    26,    37,    53,\n",
       "          43,    49,    29,    38,    48,    42,    37,    26,    34,\n",
       "          53,    87,    40,    40,    31,    40,    34,    28,    33])>)"
      ]
     },
     "execution_count": 12,
     "metadata": {},
     "output_type": "execute_result"
    }
   ],
   "source": [
    "tf.unique_with_counts(y_train)"
   ]
  },
  {
   "cell_type": "code",
   "execution_count": 13,
   "metadata": {},
   "outputs": [
    {
     "data": {
      "text/plain": [
       "UniqueWithCounts(y=<tf.Tensor: shape=(99,), dtype=int64, numpy=\n",
       "array([ 2,  1,  7,  3, 12, 19, 33, 36, 21,  8, 10, 17, 41, 18,  5, 73, 26,\n",
       "        4, 22, 68,  9, 91, 55, 66, 29,  6, 23, 67, 25, 44, 97, 56, 11, 64,\n",
       "       15, 42, 86, 30, 34, 16, 94, 27, 83, 92, 14, 38, 74, 70, 13, 20, 50,\n",
       "       61, 39, 46, 24, 82, 71, 28, 90, 51, 76, 52, 60, 43, 32, 85, 49, 47,\n",
       "       89, 84, 75, 63, 62, 37, 81, 54, 69, 77, 87, 35, 58, 31, 98, 48, 99,\n",
       "       93, 59, 96, 40, 45, 53, 65, 78, 57, 79, 72, 88, 95, 80],\n",
       "      dtype=int64)>, idx=<tf.Tensor: shape=(3977,), dtype=int32, numpy=array([ 0,  1,  1, ..., 49,  1,  1])>, count=<tf.Tensor: shape=(99,), dtype=int32, numpy=\n",
       "array([ 275, 1978,   87,  104,   38,   40,   14,   16,   22,   51,   52,\n",
       "         24,   15,   23,  115,    5,   22,  127,   22,    6,   43,   12,\n",
       "         11,    9,   16,   94,   14,    7,   20,    8,    3,   14,   57,\n",
       "          9,   29,    8,    3,   17,   14,   20,    5,   15,    9,    9,\n",
       "         26,   13,   11,   12,   37,   25,   10,   10,   17,   13,   17,\n",
       "          5,    4,   16,    7,    6,    5,    7,    8,   13,   11,    9,\n",
       "          9,    9,   10,    7,    5,   10,    8,   10,    4,    5,    5,\n",
       "          8,    5,    8,    6,   10,    3,   12,    7,    4,    3,    9,\n",
       "         10,    6,    9,    5,    1,    6,    5,    4,    6,    2,    2])>)"
      ]
     },
     "execution_count": 13,
     "metadata": {},
     "output_type": "execute_result"
    }
   ],
   "source": [
    "tf.unique_with_counts(y_val)"
   ]
  },
  {
   "cell_type": "markdown",
   "metadata": {},
   "source": [
    "## 2. Feedforward NN\n",
    "### Exercise 8\n",
    "Fit a feedforward network"
   ]
  },
  {
   "cell_type": "code",
   "execution_count": 14,
   "metadata": {},
   "outputs": [
    {
     "data": {
      "text/plain": [
       "<tf.Tensor: shape=(5,), dtype=int64, numpy=array([31,  5,  2, 82,  1], dtype=int64)>"
      ]
     },
     "execution_count": 14,
     "metadata": {},
     "output_type": "execute_result"
    }
   ],
   "source": [
    "X_train[0]"
   ]
  },
  {
   "cell_type": "code",
   "execution_count": 15,
   "metadata": {
    "scrolled": true
   },
   "outputs": [
    {
     "data": {
      "text/plain": [
       "<tf.Tensor: shape=(5, 100), dtype=float32, numpy=\n",
       "array([[0., 0., 0., 0., 0., 0., 0., 0., 0., 0., 0., 0., 0., 0., 0., 0.,\n",
       "        0., 0., 0., 0., 0., 0., 0., 0., 0., 0., 0., 0., 0., 0., 0., 1.,\n",
       "        0., 0., 0., 0., 0., 0., 0., 0., 0., 0., 0., 0., 0., 0., 0., 0.,\n",
       "        0., 0., 0., 0., 0., 0., 0., 0., 0., 0., 0., 0., 0., 0., 0., 0.,\n",
       "        0., 0., 0., 0., 0., 0., 0., 0., 0., 0., 0., 0., 0., 0., 0., 0.,\n",
       "        0., 0., 0., 0., 0., 0., 0., 0., 0., 0., 0., 0., 0., 0., 0., 0.,\n",
       "        0., 0., 0., 0.],\n",
       "       [0., 0., 0., 0., 0., 1., 0., 0., 0., 0., 0., 0., 0., 0., 0., 0.,\n",
       "        0., 0., 0., 0., 0., 0., 0., 0., 0., 0., 0., 0., 0., 0., 0., 0.,\n",
       "        0., 0., 0., 0., 0., 0., 0., 0., 0., 0., 0., 0., 0., 0., 0., 0.,\n",
       "        0., 0., 0., 0., 0., 0., 0., 0., 0., 0., 0., 0., 0., 0., 0., 0.,\n",
       "        0., 0., 0., 0., 0., 0., 0., 0., 0., 0., 0., 0., 0., 0., 0., 0.,\n",
       "        0., 0., 0., 0., 0., 0., 0., 0., 0., 0., 0., 0., 0., 0., 0., 0.,\n",
       "        0., 0., 0., 0.],\n",
       "       [0., 0., 1., 0., 0., 0., 0., 0., 0., 0., 0., 0., 0., 0., 0., 0.,\n",
       "        0., 0., 0., 0., 0., 0., 0., 0., 0., 0., 0., 0., 0., 0., 0., 0.,\n",
       "        0., 0., 0., 0., 0., 0., 0., 0., 0., 0., 0., 0., 0., 0., 0., 0.,\n",
       "        0., 0., 0., 0., 0., 0., 0., 0., 0., 0., 0., 0., 0., 0., 0., 0.,\n",
       "        0., 0., 0., 0., 0., 0., 0., 0., 0., 0., 0., 0., 0., 0., 0., 0.,\n",
       "        0., 0., 0., 0., 0., 0., 0., 0., 0., 0., 0., 0., 0., 0., 0., 0.,\n",
       "        0., 0., 0., 0.],\n",
       "       [0., 0., 0., 0., 0., 0., 0., 0., 0., 0., 0., 0., 0., 0., 0., 0.,\n",
       "        0., 0., 0., 0., 0., 0., 0., 0., 0., 0., 0., 0., 0., 0., 0., 0.,\n",
       "        0., 0., 0., 0., 0., 0., 0., 0., 0., 0., 0., 0., 0., 0., 0., 0.,\n",
       "        0., 0., 0., 0., 0., 0., 0., 0., 0., 0., 0., 0., 0., 0., 0., 0.,\n",
       "        0., 0., 0., 0., 0., 0., 0., 0., 0., 0., 0., 0., 0., 0., 0., 0.,\n",
       "        0., 0., 1., 0., 0., 0., 0., 0., 0., 0., 0., 0., 0., 0., 0., 0.,\n",
       "        0., 0., 0., 0.],\n",
       "       [0., 1., 0., 0., 0., 0., 0., 0., 0., 0., 0., 0., 0., 0., 0., 0.,\n",
       "        0., 0., 0., 0., 0., 0., 0., 0., 0., 0., 0., 0., 0., 0., 0., 0.,\n",
       "        0., 0., 0., 0., 0., 0., 0., 0., 0., 0., 0., 0., 0., 0., 0., 0.,\n",
       "        0., 0., 0., 0., 0., 0., 0., 0., 0., 0., 0., 0., 0., 0., 0., 0.,\n",
       "        0., 0., 0., 0., 0., 0., 0., 0., 0., 0., 0., 0., 0., 0., 0., 0.,\n",
       "        0., 0., 0., 0., 0., 0., 0., 0., 0., 0., 0., 0., 0., 0., 0., 0.,\n",
       "        0., 0., 0., 0.]], dtype=float32)>"
      ]
     },
     "execution_count": 15,
     "metadata": {},
     "output_type": "execute_result"
    }
   ],
   "source": [
    "tf.one_hot(X_train[0], depth=vocab_size)"
   ]
  },
  {
   "cell_type": "code",
   "execution_count": 38,
   "metadata": {},
   "outputs": [
    {
     "name": "stdout",
     "output_type": "stream",
     "text": [
      "Model: \"model\"\n",
      "_________________________________________________________________\n",
      " Layer (type)                Output Shape              Param #   \n",
      "=================================================================\n",
      " input_1 (InputLayer)        [(None, 5)]               0         \n",
      "                                                                 \n",
      " tf.one_hot (TFOpLambda)     (None, 5, 100)            0         \n",
      "                                                                 \n",
      " flatten (Flatten)           (None, 500)               0         \n",
      "                                                                 \n",
      " dense (Dense)               (None, 32)                16032     \n",
      "                                                                 \n",
      " dense_1 (Dense)             (None, 100)               3300      \n",
      "                                                                 \n",
      "=================================================================\n",
      "Total params: 19,332\n",
      "Trainable params: 19,332\n",
      "Non-trainable params: 0\n",
      "_________________________________________________________________\n"
     ]
    }
   ],
   "source": [
    "input = tf.keras.Input(shape=(sequence_length,), dtype=\"int64\") \n",
    "emd = tf.one_hot(input, depth=vocab_size)\n",
    "flat = layers.Flatten()(emd)\n",
    "x = layers.Dense(32)(flat) \n",
    "output = layers.Dense(vocab_size, activation=\"softmax\")(x) \n",
    "model = tf.keras.Model(input, output) \n",
    "\n",
    "model.compile(optimizer=\"rmsprop\",\n",
    "              loss=\"sparse_categorical_crossentropy\",\n",
    "              metrics=[\"accuracy\"])\n",
    "model.summary()"
   ]
  },
  {
   "cell_type": "code",
   "execution_count": 41,
   "metadata": {},
   "outputs": [
    {
     "name": "stdout",
     "output_type": "stream",
     "text": [
      "Epoch 1/10\n",
      "175/175 [==============================] - 1s 2ms/step - loss: 3.1949 - accuracy: 0.4836 - val_loss: 2.6586 - val_accuracy: 0.4974\n",
      "Epoch 2/10\n",
      "175/175 [==============================] - 0s 1ms/step - loss: 2.6339 - accuracy: 0.5011 - val_loss: 2.6192 - val_accuracy: 0.4974\n",
      "Epoch 3/10\n",
      "175/175 [==============================] - 0s 1ms/step - loss: 2.5934 - accuracy: 0.5011 - val_loss: 2.5898 - val_accuracy: 0.4974\n",
      "Epoch 4/10\n",
      "175/175 [==============================] - 0s 1ms/step - loss: 2.5603 - accuracy: 0.5011 - val_loss: 2.5666 - val_accuracy: 0.4974\n",
      "Epoch 5/10\n",
      "175/175 [==============================] - 0s 2ms/step - loss: 2.5292 - accuracy: 0.5011 - val_loss: 2.5476 - val_accuracy: 0.4974\n",
      "Epoch 6/10\n",
      "175/175 [==============================] - 0s 1ms/step - loss: 2.4997 - accuracy: 0.5011 - val_loss: 2.5238 - val_accuracy: 0.4981\n",
      "Epoch 7/10\n",
      "175/175 [==============================] - 0s 1ms/step - loss: 2.4718 - accuracy: 0.5020 - val_loss: 2.5038 - val_accuracy: 0.4974\n",
      "Epoch 8/10\n",
      "175/175 [==============================] - 0s 1ms/step - loss: 2.4462 - accuracy: 0.5023 - val_loss: 2.4890 - val_accuracy: 0.4979\n",
      "Epoch 9/10\n",
      "175/175 [==============================] - 0s 2ms/step - loss: 2.4232 - accuracy: 0.5028 - val_loss: 2.4756 - val_accuracy: 0.4976\n",
      "Epoch 10/10\n",
      "175/175 [==============================] - 0s 1ms/step - loss: 2.4026 - accuracy: 0.5039 - val_loss: 2.4616 - val_accuracy: 0.4971\n"
     ]
    },
    {
     "data": {
      "text/plain": [
       "<keras.callbacks.History at 0x2162dd898e0>"
      ]
     },
     "execution_count": 41,
     "metadata": {},
     "output_type": "execute_result"
    }
   ],
   "source": [
    "model.fit(\n",
    "    X_train, \n",
    "    y_train, \n",
    "    validation_data=(X_val, y_val),\n",
    "    epochs = 10, \n",
    "    batch_size=128) "
   ]
  },
  {
   "cell_type": "code",
   "execution_count": 55,
   "metadata": {},
   "outputs": [
    {
     "name": "stdout",
     "output_type": "stream",
     "text": [
      "125/125 [==============================] - 0s 650us/step\n"
     ]
    },
    {
     "data": {
      "text/plain": [
       "67"
      ]
     },
     "execution_count": 55,
     "metadata": {},
     "output_type": "execute_result"
    }
   ],
   "source": [
    "np.sum(np.argmax(model.predict(X_val), axis = 1)!=1)"
   ]
  },
  {
   "cell_type": "markdown",
   "metadata": {},
   "source": [
    "## 3. SimpleRNN\n",
    "### Exercise 9 \n",
    "Fit a NN with a `SimpleRNN` layer."
   ]
  },
  {
   "cell_type": "code",
   "execution_count": 56,
   "metadata": {},
   "outputs": [
    {
     "name": "stdout",
     "output_type": "stream",
     "text": [
      "Model: \"model_1\"\n",
      "_________________________________________________________________\n",
      " Layer (type)                Output Shape              Param #   \n",
      "=================================================================\n",
      " input_2 (InputLayer)        [(None, 5)]               0         \n",
      "                                                                 \n",
      " tf.one_hot_1 (TFOpLambda)   (None, 5, 100)            0         \n",
      "                                                                 \n",
      " simple_rnn (SimpleRNN)      (None, 32)                4256      \n",
      "                                                                 \n",
      " dense_2 (Dense)             (None, 100)               3300      \n",
      "                                                                 \n",
      "=================================================================\n",
      "Total params: 7,556\n",
      "Trainable params: 7,556\n",
      "Non-trainable params: 0\n",
      "_________________________________________________________________\n"
     ]
    }
   ],
   "source": [
    "input = tf.keras.Input(shape=(sequence_length,), dtype=\"int64\") \n",
    "emd = tf.one_hot(input, depth=vocab_size)\n",
    "x = layers.SimpleRNN(32)(emd) \n",
    "output = layers.Dense(vocab_size, activation=\"softmax\")(x) \n",
    "model = tf.keras.Model(input, output) \n",
    "\n",
    "model.compile(optimizer=\"rmsprop\",\n",
    "              loss=\"sparse_categorical_crossentropy\",\n",
    "              metrics=[\"accuracy\"])\n",
    "model.summary()"
   ]
  },
  {
   "cell_type": "code",
   "execution_count": 57,
   "metadata": {},
   "outputs": [
    {
     "name": "stdout",
     "output_type": "stream",
     "text": [
      "Epoch 1/10\n",
      "175/175 [==============================] - 1s 3ms/step - loss: 2.9501 - accuracy: 0.4715 - val_loss: 2.6632 - val_accuracy: 0.4974\n",
      "Epoch 2/10\n",
      "175/175 [==============================] - 0s 2ms/step - loss: 2.6625 - accuracy: 0.5011 - val_loss: 2.6540 - val_accuracy: 0.4974\n",
      "Epoch 3/10\n",
      "175/175 [==============================] - 0s 2ms/step - loss: 2.6373 - accuracy: 0.5011 - val_loss: 2.6201 - val_accuracy: 0.4974\n",
      "Epoch 4/10\n",
      "175/175 [==============================] - 0s 2ms/step - loss: 2.6079 - accuracy: 0.5011 - val_loss: 2.6011 - val_accuracy: 0.4974\n",
      "Epoch 5/10\n",
      "175/175 [==============================] - 0s 2ms/step - loss: 2.5777 - accuracy: 0.5011 - val_loss: 2.5831 - val_accuracy: 0.4974\n",
      "Epoch 6/10\n",
      "175/175 [==============================] - 0s 2ms/step - loss: 2.5506 - accuracy: 0.5011 - val_loss: 2.5671 - val_accuracy: 0.4969\n",
      "Epoch 7/10\n",
      "175/175 [==============================] - 0s 2ms/step - loss: 2.5267 - accuracy: 0.5012 - val_loss: 2.5289 - val_accuracy: 0.4974\n",
      "Epoch 8/10\n",
      "175/175 [==============================] - 0s 2ms/step - loss: 2.5064 - accuracy: 0.5014 - val_loss: 2.5155 - val_accuracy: 0.4971\n",
      "Epoch 9/10\n",
      "175/175 [==============================] - 0s 2ms/step - loss: 2.4884 - accuracy: 0.5015 - val_loss: 2.5091 - val_accuracy: 0.4974\n",
      "Epoch 10/10\n",
      "175/175 [==============================] - 0s 2ms/step - loss: 2.4722 - accuracy: 0.5019 - val_loss: 2.5050 - val_accuracy: 0.4974\n"
     ]
    },
    {
     "data": {
      "text/plain": [
       "<keras.callbacks.History at 0x2162e09f160>"
      ]
     },
     "execution_count": 57,
     "metadata": {},
     "output_type": "execute_result"
    }
   ],
   "source": [
    "model.fit(\n",
    "    X_train, \n",
    "    y_train, \n",
    "    validation_data=(X_val, y_val),\n",
    "    epochs = 10, \n",
    "    batch_size=128) "
   ]
  },
  {
   "cell_type": "code",
   "execution_count": 59,
   "metadata": {},
   "outputs": [
    {
     "name": "stdout",
     "output_type": "stream",
     "text": [
      "125/125 [==============================] - 0s 748us/step\n"
     ]
    },
    {
     "data": {
      "text/plain": [
       "2"
      ]
     },
     "execution_count": 59,
     "metadata": {},
     "output_type": "execute_result"
    }
   ],
   "source": [
    "np.sum(np.argmax(model.predict(X_val), axis = 1)!=1)"
   ]
  },
  {
   "cell_type": "markdown",
   "metadata": {},
   "source": [
    "## 4. LSTM\n",
    "### Exercise 10\n",
    "Fit a NN with a `LSTM` layer."
   ]
  },
  {
   "cell_type": "code",
   "execution_count": 60,
   "metadata": {},
   "outputs": [
    {
     "name": "stdout",
     "output_type": "stream",
     "text": [
      "Model: \"model_2\"\n",
      "_________________________________________________________________\n",
      " Layer (type)                Output Shape              Param #   \n",
      "=================================================================\n",
      " input_3 (InputLayer)        [(None, 5)]               0         \n",
      "                                                                 \n",
      " tf.one_hot_2 (TFOpLambda)   (None, 5, 100)            0         \n",
      "                                                                 \n",
      " lstm (LSTM)                 (None, 32)                17024     \n",
      "                                                                 \n",
      " dense_3 (Dense)             (None, 100)               3300      \n",
      "                                                                 \n",
      "=================================================================\n",
      "Total params: 20,324\n",
      "Trainable params: 20,324\n",
      "Non-trainable params: 0\n",
      "_________________________________________________________________\n"
     ]
    }
   ],
   "source": [
    "input = tf.keras.Input(shape=(sequence_length,), dtype=\"int64\") \n",
    "emd = tf.one_hot(input, depth=vocab_size)\n",
    "x = layers.LSTM(32)(emd) \n",
    "output = layers.Dense(vocab_size, activation=\"softmax\")(x) \n",
    "model = tf.keras.Model(input, output) \n",
    "\n",
    "model.compile(optimizer=\"rmsprop\",\n",
    "              loss=\"sparse_categorical_crossentropy\",\n",
    "              metrics=[\"accuracy\"])\n",
    "model.summary()"
   ]
  },
  {
   "cell_type": "code",
   "execution_count": 61,
   "metadata": {},
   "outputs": [
    {
     "name": "stdout",
     "output_type": "stream",
     "text": [
      "Epoch 1/10\n",
      "175/175 [==============================] - 2s 5ms/step - loss: 3.1338 - accuracy: 0.4934 - val_loss: 2.6688 - val_accuracy: 0.4974\n",
      "Epoch 2/10\n",
      "175/175 [==============================] - 1s 3ms/step - loss: 2.6701 - accuracy: 0.5011 - val_loss: 2.6611 - val_accuracy: 0.4974\n",
      "Epoch 3/10\n",
      "175/175 [==============================] - 1s 3ms/step - loss: 2.6612 - accuracy: 0.5011 - val_loss: 2.6666 - val_accuracy: 0.4974\n",
      "Epoch 4/10\n",
      "175/175 [==============================] - 0s 3ms/step - loss: 2.6526 - accuracy: 0.5011 - val_loss: 2.6457 - val_accuracy: 0.4974\n",
      "Epoch 5/10\n",
      "175/175 [==============================] - 0s 3ms/step - loss: 2.6446 - accuracy: 0.5011 - val_loss: 2.6535 - val_accuracy: 0.4974\n",
      "Epoch 6/10\n",
      "175/175 [==============================] - 0s 3ms/step - loss: 2.6369 - accuracy: 0.5011 - val_loss: 2.6459 - val_accuracy: 0.4974\n",
      "Epoch 7/10\n",
      "175/175 [==============================] - 1s 3ms/step - loss: 2.6285 - accuracy: 0.5011 - val_loss: 2.6285 - val_accuracy: 0.4974\n",
      "Epoch 8/10\n",
      "175/175 [==============================] - 1s 3ms/step - loss: 2.6187 - accuracy: 0.5011 - val_loss: 2.6180 - val_accuracy: 0.4974\n",
      "Epoch 9/10\n",
      "175/175 [==============================] - 1s 3ms/step - loss: 2.6083 - accuracy: 0.5011 - val_loss: 2.6065 - val_accuracy: 0.4974\n",
      "Epoch 10/10\n",
      "175/175 [==============================] - 1s 3ms/step - loss: 2.5958 - accuracy: 0.5011 - val_loss: 2.5951 - val_accuracy: 0.4974\n"
     ]
    },
    {
     "data": {
      "text/plain": [
       "<keras.callbacks.History at 0x2162dc983d0>"
      ]
     },
     "execution_count": 61,
     "metadata": {},
     "output_type": "execute_result"
    }
   ],
   "source": [
    "model.fit(\n",
    "    X_train, \n",
    "    y_train, \n",
    "    validation_data=(X_val, y_val),\n",
    "    epochs = 10, \n",
    "    batch_size=128) "
   ]
  },
  {
   "cell_type": "code",
   "execution_count": 63,
   "metadata": {},
   "outputs": [
    {
     "name": "stdout",
     "output_type": "stream",
     "text": [
      "125/125 [==============================] - 0s 957us/step\n"
     ]
    },
    {
     "data": {
      "text/plain": [
       "0"
      ]
     },
     "execution_count": 63,
     "metadata": {},
     "output_type": "execute_result"
    }
   ],
   "source": [
    "np.sum(np.argmax(model.predict(X_val), axis = 1)!=1)"
   ]
  },
  {
   "cell_type": "markdown",
   "metadata": {},
   "source": [
    "## 5. Embedding + LSTM\n",
    "### Exercise 11\n",
    "Fit a NN with an `Embedding` and `LSTM` layers."
   ]
  },
  {
   "cell_type": "code",
   "execution_count": 76,
   "metadata": {},
   "outputs": [
    {
     "name": "stdout",
     "output_type": "stream",
     "text": [
      "Model: \"model_6\"\n",
      "_________________________________________________________________\n",
      " Layer (type)                Output Shape              Param #   \n",
      "=================================================================\n",
      " input_7 (InputLayer)        [(None, 5)]               0         \n",
      "                                                                 \n",
      " embedding_3 (Embedding)     (None, 5, 16)             1600      \n",
      "                                                                 \n",
      " lstm_4 (LSTM)               (None, 32)                6272      \n",
      "                                                                 \n",
      " dense_7 (Dense)             (None, 100)               3300      \n",
      "                                                                 \n",
      "=================================================================\n",
      "Total params: 11,172\n",
      "Trainable params: 11,172\n",
      "Non-trainable params: 0\n",
      "_________________________________________________________________\n"
     ]
    }
   ],
   "source": [
    "input = tf.keras.Input(shape=(sequence_length,), dtype=\"int64\") \n",
    "emd = layers.Embedding(input_dim=vocab_size, output_dim=16)(input)\n",
    "x = layers.LSTM(32)(emd) \n",
    "output = layers.Dense(vocab_size, activation=\"softmax\")(x) \n",
    "model = tf.keras.Model(input, output) \n",
    "\n",
    "model.compile(optimizer=\"rmsprop\",\n",
    "              loss=\"sparse_categorical_crossentropy\",\n",
    "              metrics=[\"accuracy\"])\n",
    "model.summary()"
   ]
  },
  {
   "cell_type": "code",
   "execution_count": 77,
   "metadata": {},
   "outputs": [
    {
     "name": "stdout",
     "output_type": "stream",
     "text": [
      "Epoch 1/10\n",
      "349/349 [==============================] - 2s 3ms/step - loss: 2.9095 - accuracy: 0.4995 - val_loss: 2.6744 - val_accuracy: 0.4974\n",
      "Epoch 2/10\n",
      "349/349 [==============================] - 1s 2ms/step - loss: 2.6674 - accuracy: 0.5011 - val_loss: 2.6702 - val_accuracy: 0.4974\n",
      "Epoch 3/10\n",
      "349/349 [==============================] - 1s 2ms/step - loss: 2.6484 - accuracy: 0.5011 - val_loss: 2.6391 - val_accuracy: 0.4974\n",
      "Epoch 4/10\n",
      "349/349 [==============================] - 1s 2ms/step - loss: 2.6317 - accuracy: 0.5011 - val_loss: 2.6472 - val_accuracy: 0.4974\n",
      "Epoch 5/10\n",
      "349/349 [==============================] - 1s 2ms/step - loss: 2.6192 - accuracy: 0.5011 - val_loss: 2.6281 - val_accuracy: 0.4974\n",
      "Epoch 6/10\n",
      "349/349 [==============================] - 1s 2ms/step - loss: 2.6012 - accuracy: 0.5011 - val_loss: 2.5927 - val_accuracy: 0.4974\n",
      "Epoch 7/10\n",
      "349/349 [==============================] - 1s 2ms/step - loss: 2.5761 - accuracy: 0.5011 - val_loss: 2.5668 - val_accuracy: 0.4974\n",
      "Epoch 8/10\n",
      "349/349 [==============================] - 1s 2ms/step - loss: 2.5509 - accuracy: 0.5011 - val_loss: 2.5478 - val_accuracy: 0.4974\n",
      "Epoch 9/10\n",
      "349/349 [==============================] - 1s 3ms/step - loss: 2.5294 - accuracy: 0.5011 - val_loss: 2.5305 - val_accuracy: 0.4974\n",
      "Epoch 10/10\n",
      "349/349 [==============================] - 1s 3ms/step - loss: 2.5127 - accuracy: 0.5012 - val_loss: 2.5162 - val_accuracy: 0.4974\n"
     ]
    },
    {
     "data": {
      "text/plain": [
       "<keras.callbacks.History at 0x2164d3d1910>"
      ]
     },
     "execution_count": 77,
     "metadata": {},
     "output_type": "execute_result"
    }
   ],
   "source": [
    "model.fit(\n",
    "    X_train, \n",
    "    y_train, \n",
    "    validation_data=(X_val, y_val),\n",
    "    epochs = 10, \n",
    "    batch_size=64) "
   ]
  },
  {
   "cell_type": "code",
   "execution_count": 79,
   "metadata": {},
   "outputs": [
    {
     "name": "stdout",
     "output_type": "stream",
     "text": [
      "125/125 [==============================] - 0s 1ms/step\n"
     ]
    },
    {
     "data": {
      "text/plain": [
       "0"
      ]
     },
     "execution_count": 79,
     "metadata": {},
     "output_type": "execute_result"
    }
   ],
   "source": [
    "np.sum(np.argmax(model.predict(X_val), axis = 1)!=1)"
   ]
  }
 ],
 "metadata": {
  "kernelspec": {
   "display_name": "Python 3 (ipykernel)",
   "language": "python",
   "name": "python3"
  },
  "language_info": {
   "codemirror_mode": {
    "name": "ipython",
    "version": 3
   },
   "file_extension": ".py",
   "mimetype": "text/x-python",
   "name": "python",
   "nbconvert_exporter": "python",
   "pygments_lexer": "ipython3",
   "version": "3.9.13"
  }
 },
 "nbformat": 4,
 "nbformat_minor": 2
}
